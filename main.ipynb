{
 "cells": [
  {
   "cell_type": "code",
   "execution_count": 285,
   "metadata": {},
   "outputs": [],
   "source": [
    "import solana\n",
    "import json\n",
    "from solana.rpc.api import Client\n"
   ]
  },
  {
   "cell_type": "code",
   "execution_count": 286,
   "metadata": {},
   "outputs": [],
   "source": [
    "# Connect to testnet/devnet/main-beta cluster\n",
    "\n",
    "# http_client = Client(\"https://api.devnet.solana.com\")\n",
    "http_client = Client(\"https://api.testnet.solana.com\") # because it is just an case study I'm using testnet cluster\n",
    "# http_client = Client(\"https://api.mainnet-beta.solana.com\") # interactions on solana main/production blockchain"
   ]
  },
  {
   "cell_type": "code",
   "execution_count": 287,
   "metadata": {},
   "outputs": [],
   "source": [
    "# Case study part 1\n",
    "# Validatorts count\n",
    "validators_current = json.loads(http_client.get_vote_accounts().value.to_json())\n",
    "validators_current_count = len(validators_current['current'])\n",
    "\n",
    "# Validator gossip connecton details\n",
    "current_gossip = json.loads(http_client.get_cluster_nodes().to_json())\n",
    "current_gossip_details = current_gossip['result']\n",
    "\n",
    "# The latest block\n",
    "current_slot = http_client.get_slot().value\n",
    "current_block = json.loads(http_client.get_block(current_slot).value.to_json()) \n"
   ]
  },
  {
   "cell_type": "code",
   "execution_count": 288,
   "metadata": {},
   "outputs": [
    {
     "name": "stdout",
     "output_type": "stream",
     "text": [
      "Validator count (current): 3039\n",
      "Block time (current): 1\n",
      "Sample list of TPUs: ['74.118.136.168:8004', '145.40.87.153:9001', '207.121.35.236:8004', '95.214.55.97:8003', '67.211.212.6:8003', '64.20.46.122:8003', '108.171.214.106:8004', '145.40.115.171:8004', '145.40.126.59:8004', '80.79.7.144:8003']\n"
     ]
    }
   ],
   "source": [
    "# Case study part 2\n",
    "# Average validator count (last 30 days)\n",
    "# To be able to calculate the average: \n",
    "# I'd neet to ping http cluster in following days and store somewere (database/file) the validators_current_count and some timstamp info.\n",
    "print(f'Validator count (current): {validators_current_count}') # current validator count \n",
    "\n",
    "# Average block time (last 30 days)\n",
    "# At this point I've calculated only current_block_complete_time\n",
    "# To be able to calculate the average: \n",
    "# I'd neet to ping http cluster in following days and store somewere (database/file) the validators_current_count and some timstamp info.\n",
    "# block_time is a UNIX timestamp\n",
    "current_block_timeUNIX = current_block['blockTime']\n",
    "previous_slot = current_block['parentSlot']\n",
    "previous_block = json.loads(http_client.get_block(previous_slot).value.to_json())\n",
    "previous_block_timeUNIX = previous_block['blockTime']\n",
    "# CurrentBlockCompletionTime is expressed in seconds\n",
    "current_block_complete_time = current_block_timeUNIX - previous_block_timeUNIX\n",
    "print(f'Block time (current): {current_block_complete_time}') # current\n",
    "\n",
    "# IP address clusters (current)\n",
    "# At this point I've got whole tpu-s stored in tpu_list... It is just an intermediary step to get list of IPs but now I am actually run out of time :(...\n",
    "gossip_num = int(len(current_gossip_details))\n",
    "tpu_list=[]\n",
    "for i in list(range(gossip_num)):\n",
    "    tpu_str = str(current_gossip_details[i]['tpu'])\n",
    "    tpu_list.append(tpu_str)\n",
    "\n",
    "print(f'Sample list of TPUs: {tpu_list[0:10]}') # printing just a sample"
   ]
  }
 ],
 "metadata": {
  "kernelspec": {
   "display_name": "venv",
   "language": "python",
   "name": "python3"
  },
  "language_info": {
   "codemirror_mode": {
    "name": "ipython",
    "version": 3
   },
   "file_extension": ".py",
   "mimetype": "text/x-python",
   "name": "python",
   "nbconvert_exporter": "python",
   "pygments_lexer": "ipython3",
   "version": "3.12.0"
  }
 },
 "nbformat": 4,
 "nbformat_minor": 2
}
